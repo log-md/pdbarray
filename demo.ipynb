{
 "cells": [
  {
   "cell_type": "code",
   "execution_count": 2,
   "metadata": {},
   "outputs": [
    {
     "name": "stdout",
     "output_type": "stream",
     "text": [
      "HEADER    \n",
      "TITLE     MDANALYSIS FRAME 0: Created by PDBWriter\n",
      "CRYST1    1.000    1.000    1.000  90.00  90.00  90.00 P 1           1\n",
      "ATOM      1  N   ASP A   1      -1.411   0.606  -0.055  1.00 24.81      A    N  \n",
      "ATOM      2  CA  ASP A   1      -0.718  -0.671   0.107  1.00 25.57      A    C  \n",
      "ATOM      3  C   ASP A   1       0.782  -0.505  -0.126  1.00 22.25      A    C  \n",
      "ATOM      4  O   ASP A   1       1.347   0.570   0.073  1.00 23.00      A    O  \n",
      "END\n"
     ]
    }
   ],
   "source": [
    "import pdbarray as pa\n",
    "import numpy as np \n",
    "\n",
    "pdb_string = \"\"\"\n",
    "ATOM      1  N   ASP A   1      11.411  86.258  12.853  1.00 24.81           N  \n",
    "ATOM      2  CA  ASP A   1      10.477  85.405  13.585  1.00 25.57           C  \n",
    "ATOM      3  C   ASP A   1       9.886  84.337  12.667  1.00 22.25           C  \n",
    "ATOM      4  O   ASP A   1       9.786  84.519  11.454  1.00 23.00           O  \n",
    "\"\"\"\n",
    "\n",
    "arr = pa.array(pdb_string)\n",
    "arr = arr - arr.mean(axis=0)          # move to (0,0,0)\n",
    "arr = arr @ np.linalg.svd(arr)[2].T   # \"remove rotation\"\n",
    "print(arr)"
   ]
  },
  {
   "cell_type": "code",
   "execution_count": 3,
   "metadata": {},
   "outputs": [
    {
     "name": "stdout",
     "output_type": "stream",
     "text": [
      "Alignment score: 289.0\n"
     ]
    },
    {
     "data": {
      "text/html": [
       "<pre style=\"white-space:pre;overflow-x:auto;line-height:normal;font-family:Menlo,'DejaVu Sans Mono',consolas,'Courier New',monospace\"><span style=\"color: #7f7f7f; text-decoration-color: #7f7f7f; font-weight: bold\">[</span><span style=\"color: #7feb7f; text-decoration-color: #7feb7f\">logmd</span><span style=\"color: #7f7f7f; text-decoration-color: #7f7f7f; font-weight: bold\">]</span><span style=\"color: #7f7f7f; text-decoration-color: #7f7f7f\"> </span><span style=\"color: #bfbf7f; text-decoration-color: #bfbf7f\">Load_time</span><span style=\"color: #7f7f7f; text-decoration-color: #7f7f7f\">=</span><span style=\"color: #7f7fbf; text-decoration-color: #7f7fbf; font-weight: bold\">0.</span><span style=\"color: #7f7fbf; text-decoration-color: #7f7fbf\">14s</span><span style=\"color: #7f7f7f; text-decoration-color: #7f7f7f\"> 🚀</span>\n",
       "</pre>\n"
      ],
      "text/plain": [
       "\u001b[1;2m[\u001b[0m\u001b[2;38;5;40mlogmd\u001b[0m\u001b[1;2m]\u001b[0m\u001b[2m \u001b[0m\u001b[2;33mLoad_time\u001b[0m\u001b[2m=\u001b[0m\u001b[1;2;34m0\u001b[0m\u001b[1;2;34m.\u001b[0m\u001b[2;34m14s\u001b[0m\u001b[2m 🚀\u001b[0m\n"
      ]
     },
     "metadata": {},
     "output_type": "display_data"
    },
    {
     "data": {
      "text/html": [
       "<pre style=\"white-space:pre;overflow-x:auto;line-height:normal;font-family:Menlo,'DejaVu Sans Mono',consolas,'Courier New',monospace\"><span style=\"color: #7f7f7f; text-decoration-color: #7f7f7f; font-weight: bold\">[</span><span style=\"color: #7feb7f; text-decoration-color: #7feb7f\">logmd</span><span style=\"color: #7f7f7f; text-decoration-color: #7f7f7f; font-weight: bold\">]</span><span style=\"color: #7f7f7f; text-decoration-color: #7f7f7f\"> </span><span style=\"color: #bfbf7f; text-decoration-color: #bfbf7f\">Url</span><span style=\"color: #7f7f7f; text-decoration-color: #7f7f7f\">=</span><a href=\"https://rcsb.ai/ed5639e7cd\" target=\"_blank\"><span style=\"color: #7f7fbf; text-decoration-color: #7f7fbf; text-decoration: underline\">https://rcsb.ai/ed5639e7cd</span></a><span style=\"color: #7f7f7f; text-decoration-color: #7f7f7f\"> 🚀</span>\n",
       "</pre>\n"
      ],
      "text/plain": [
       "\u001b[1;2m[\u001b[0m\u001b[2;38;5;40mlogmd\u001b[0m\u001b[1;2m]\u001b[0m\u001b[2m \u001b[0m\u001b[2;33mUrl\u001b[0m\u001b[2m=\u001b[0m\u001b]8;id=113184;https://rcsb.ai/ed5639e7cd\u001b\\\u001b[2;4;34mhttps\u001b[0m\u001b]8;;\u001b\\\u001b]8;id=929045;https://rcsb.ai/ed5639e7cd\u001b\\\u001b[2;4;34m://rcsb.ai/ed5639e7cd\u001b[0m\u001b]8;;\u001b\\\u001b[2m 🚀\u001b[0m\n"
      ]
     },
     "metadata": {},
     "output_type": "display_data"
    },
    {
     "data": {
      "text/html": [
       "<pre style=\"white-space:pre;overflow-x:auto;line-height:normal;font-family:Menlo,'DejaVu Sans Mono',consolas,'Courier New',monospace\"><span style=\"color: #7f7f7f; text-decoration-color: #7f7f7f; font-weight: bold\">[</span><span style=\"color: #7feb7f; text-decoration-color: #7feb7f\">logmd</span><span style=\"color: #7f7f7f; text-decoration-color: #7f7f7f; font-weight: bold\">]</span><span style=\"color: #7f7f7f; text-decoration-color: #7f7f7f\"> </span><span style=\"color: #bfbf7f; text-decoration-color: #bfbf7f\">Url</span><span style=\"color: #7f7f7f; text-decoration-color: #7f7f7f\">=</span><a href=\"https://rcsb.ai/ed5639e7cd?\" target=\"_blank\"><span style=\"color: #7f7fbf; text-decoration-color: #7f7fbf; text-decoration: underline\">https://rcsb.ai/ed5639e7cd?</span></a><span style=\"color: #7f7f7f; text-decoration-color: #7f7f7f\"> </span><span style=\"color: #7f7f7f; text-decoration-color: #7f7f7f; font-weight: bold\">(</span><span style=\"color: #7f7f7f; text-decoration-color: #7f7f7f\">embedded</span><span style=\"color: #7f7f7f; text-decoration-color: #7f7f7f; font-weight: bold\">)</span><span style=\"color: #7f7f7f; text-decoration-color: #7f7f7f\"> 🚀</span>\n",
       "</pre>\n"
      ],
      "text/plain": [
       "\u001b[1;2m[\u001b[0m\u001b[2;38;5;40mlogmd\u001b[0m\u001b[1;2m]\u001b[0m\u001b[2m \u001b[0m\u001b[2;33mUrl\u001b[0m\u001b[2m=\u001b[0m\u001b]8;id=541504;https://rcsb.ai/ed5639e7cd?\u001b\\\u001b[2;4;34mhttps\u001b[0m\u001b]8;;\u001b\\\u001b]8;id=287905;https://rcsb.ai/ed5639e7cd?\u001b\\\u001b[2;4;34m://rcsb.ai/ed5639e7cd?\u001b[0m\u001b]8;;\u001b\\\u001b[2m \u001b[0m\u001b[1;2m(\u001b[0m\u001b[2membedded\u001b[0m\u001b[1;2m)\u001b[0m\u001b[2m 🚀\u001b[0m\n"
      ]
     },
     "metadata": {},
     "output_type": "display_data"
    },
    {
     "data": {
      "text/html": [
       "\n",
       "        <iframe\n",
       "            width=\"900\"\n",
       "            height=\"600\"\n",
       "            src=\"https://rcsb.ai/ed5639e7cd?\"\n",
       "            frameborder=\"0\"\n",
       "            allowfullscreen\n",
       "            \n",
       "        ></iframe>\n",
       "        "
      ],
      "text/plain": [
       "<IPython.lib.display.IFrame at 0x71d870a733b0>"
      ]
     },
     "metadata": {},
     "output_type": "display_data"
    }
   ],
   "source": [
    "import pdbarray as pa\n",
    "from logmd import LogMD\n",
    "p1, p2 = pa.array('2xp2'), pa.array('4mkc')\n",
    "p1, p2 = p1.align(p2) \n",
    "\n",
    "logmd = LogMD()\n",
    "logmd.notebook()\n",
    "logmd(str(p1))\n",
    "logmd(str(p2))\n",
    "# todo: \n",
    "# [ ] have cat(p1,p2) plot with different colors as one frame \n",
    "# [ ] have logmd automatically cast pdbarray to string "
   ]
  }
 ],
 "metadata": {
  "kernelspec": {
   "display_name": "base",
   "language": "python",
   "name": "python3"
  },
  "language_info": {
   "codemirror_mode": {
    "name": "ipython",
    "version": 3
   },
   "file_extension": ".py",
   "mimetype": "text/x-python",
   "name": "python",
   "nbconvert_exporter": "python",
   "pygments_lexer": "ipython3",
   "version": "3.12.4"
  }
 },
 "nbformat": 4,
 "nbformat_minor": 2
}
